{
  "nbformat": 4,
  "nbformat_minor": 0,
  "metadata": {
    "colab": {
      "provenance": [],
      "authorship_tag": "ABX9TyOmiI9Hl6hWw6ZX38W29eSe",
      "include_colab_link": true
    },
    "kernelspec": {
      "name": "python3",
      "display_name": "Python 3"
    },
    "language_info": {
      "name": "python"
    }
  },
  "cells": [
    {
      "cell_type": "markdown",
      "metadata": {
        "id": "view-in-github",
        "colab_type": "text"
      },
      "source": [
        "<a href=\"https://colab.research.google.com/github/yeee457984/Ptt_crawler/blob/main/Ptt_crawler.ipynb\" target=\"_parent\"><img src=\"https://colab.research.google.com/assets/colab-badge.svg\" alt=\"Open In Colab\"/></a>"
      ]
    },
    {
      "cell_type": "code",
      "source": [
        "import requests\n",
        "from bs4 import BeautifulSoup\n",
        "import json"
      ],
      "metadata": {
        "id": "zAUOGfpsriCv"
      },
      "execution_count": null,
      "outputs": []
    },
    {
      "cell_type": "code",
      "execution_count": null,
      "metadata": {
        "colab": {
          "base_uri": "https://localhost:8080/"
        },
        "id": "zQqLnNWcpTV3",
        "outputId": "a1b6a617-6d1d-475c-d1bf-e446ea381efa"
      },
      "outputs": [
        {
          "output_type": "stream",
          "name": "stdout",
          "text": [
            "[\n",
            "  {\n",
            "    \"列表名稱\": \"Gossiping\",\n",
            "    \"網址\": \"https://www.ptt.cc/bbs/Gossiping/index.html\"\n",
            "  },\n",
            "  {\n",
            "    \"列表名稱\": \"Stock\",\n",
            "    \"網址\": \"https://www.ptt.cc/bbs/Stock/index.html\"\n",
            "  },\n",
            "  {\n",
            "    \"列表名稱\": \"C_Chat\",\n",
            "    \"網址\": \"https://www.ptt.cc/bbs/C_Chat/index.html\"\n",
            "  },\n",
            "  {\n",
            "    \"列表名稱\": \"NBA\",\n",
            "    \"網址\": \"https://www.ptt.cc/bbs/NBA/index.html\"\n",
            "  },\n",
            "  {\n",
            "    \"列表名稱\": \"Baseball\",\n",
            "    \"網址\": \"https://www.ptt.cc/bbs/Baseball/index.html\"\n",
            "  },\n",
            "  {\n",
            "    \"列表名稱\": \"KoreaStar\",\n",
            "    \"網址\": \"https://www.ptt.cc/bbs/KoreaStar/index.html\"\n",
            "  }\n",
            "]\n"
          ]
        }
      ],
      "source": [
        "ptt_url = \"https://www.ptt.cc/bbs/index.html\"\n",
        "ptt_text = requests.get(ptt_url).text\n",
        "hot_para = BeautifulSoup(ptt_text, 'html.parser')\n",
        "articles = []\n",
        "\n",
        "for div in hot_para.find_all(\"div\", class_ = \"b-ent\" ):\n",
        "    try:\n",
        "        title = div.find(\"div\", class_ = \"board-name\" ).text.strip()\n",
        "        href = \"https://www.ptt.cc\" + div.find(\"a\", class_ = \"board\")['href']\n",
        "\n",
        "        articles.append({\n",
        "            \"列表名稱\": title,\n",
        "            \"網址\": href\n",
        "        })\n",
        "    except:\n",
        "        continue\n",
        "\n",
        "# 輸出前六名熱門看板\n",
        "print(json.dumps(articles[:6], indent = 2, ensure_ascii=False))"
      ]
    },
    {
      "cell_type": "code",
      "source": [
        "from datetime import datetime, timedelta\n",
        "url = \"https://www.ptt.cc/bbs/Gossiping/index.html\"\n",
        "gos_text = requests.get(url, cookies = {'over18' : '1'}).text\n",
        "gos = BeautifulSoup(gos_text, 'html.parser')\n",
        "gos_articles = []\n",
        "\n",
        "today = datetime.now()\n",
        "seven_days_ago = today - timedelta(days=7)\n",
        "\n",
        "\n",
        "for link in gos.find_all(\"div\", class_ = \" r-ent \"):\n",
        "  date_str = div.find(\"div\", class_=\"meta\").find(\"div\", class_ = \"date\").text.strip()\n",
        "  title = div.find(\"div\",class_ = \"title\" ).text\n",
        "  article_date = datetime.strptime(date_str, '%m/%d')\n",
        "  article_date = article_date.replace(year=today.year)\n",
        "  if article_date > seven_days_ago:\n",
        "    continue\n",
        "  category_pattern = r'\\[(.*?)\\]'\n",
        "  category = div.find(\"a\",category_pattern)\n",
        "  href = \"https://www.ptt.cc\" + div.find(\"div\", class_ = \"title\").find(\"a\")['href']\n",
        "\n",
        "  post_text = requests.get(href, cookies = {'over18' : '1'}).text\n",
        "  post = BeautifulSoup(post_text, 'html.parser')\n",
        "\n",
        "  for div in post.find_all(\"div\", class_ = \"bbs-screen bbs-content\" ):\n",
        "    author = div.find(\"div\", class_ = \"article-meta-value\")\n",
        "    comments = div.find(\"div\", class_ = \"push\")\n",
        "    for i, comment in enumerate(comments, start=1):\n",
        "      author = comment.find('span', class_=\"f3 hl push-userid\").text\n",
        "      time = comment.find('span', class_=\"push-ipdatetime\").text\n",
        "      text = comment.find('p', class_=\"f3 push-content\").text\n",
        "\n",
        "    # 将评论信息存储到字典中\n",
        "      gos_articles.append({\n",
        "          \"作者\":author,\n",
        "          \"標題\":title,\n",
        "          \"發文時間\":article_date,\n",
        "          f'留言{i}': {\n",
        "          '姓名': author,\n",
        "          '內文': text,\n",
        "          '時間': time\n",
        "            }\n",
        "        })\n",
        "print(json.dumps(gos_articles, indent=2, ensure_ascii=False))"
      ],
      "metadata": {
        "id": "3DnW3TMoqsK9",
        "colab": {
          "base_uri": "https://localhost:8080/"
        },
        "outputId": "1d29e704-717b-4e1b-dbfb-da5f2aad0525"
      },
      "execution_count": null,
      "outputs": [
        {
          "output_type": "stream",
          "name": "stdout",
          "text": [
            "[]\n"
          ]
        }
      ]
    },
    {
      "cell_type": "code",
      "source": [],
      "metadata": {
        "id": "actC3ll2CGIj"
      },
      "execution_count": null,
      "outputs": []
    }
  ]
}